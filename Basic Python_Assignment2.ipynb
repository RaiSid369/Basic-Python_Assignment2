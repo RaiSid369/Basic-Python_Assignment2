{
 "cells": [
  {
   "cell_type": "code",
   "execution_count": null,
   "id": "8f2518dc",
   "metadata": {},
   "outputs": [],
   "source": [
    "# Que 1. What are the two values of the Boolean data type? How do you write them?"
   ]
  },
  {
   "cell_type": "code",
   "execution_count": null,
   "id": "626d7c42",
   "metadata": {},
   "outputs": [],
   "source": [
    "# Ans\n",
    "# There are two values of Boolean data type, namely, 'True' and 'False'. The value of True is 1 while the value of False is 0. \n",
    "# Since Python is case sensitive, therefore, these values are written as True and False."
   ]
  },
  {
   "cell_type": "code",
   "execution_count": null,
   "id": "cb8b1428",
   "metadata": {},
   "outputs": [],
   "source": []
  },
  {
   "cell_type": "code",
   "execution_count": 1,
   "id": "1914aab2",
   "metadata": {},
   "outputs": [],
   "source": [
    "# Que 2. What are the three different types of Boolean operators? "
   ]
  },
  {
   "cell_type": "code",
   "execution_count": null,
   "id": "d2db36e5",
   "metadata": {},
   "outputs": [],
   "source": [
    "# Ans \n",
    "# There are three different types of Boolean operators. \n",
    "# These are 'AND', 'OR' and 'NOT'. Below are brief details about these operators. \n",
    "\n",
    "# AND Operator: This case will return True when both of the conditions are satisfied. \n",
    "# Even if one condition is False then the resultant value is also False.\n",
    "\n",
    "# OR Operator: This case will return True when one of the two conditions is satisfied. \n",
    "\n",
    "# NOT Operator: This case just alters the given condition. It turns True to False and vice versa"
   ]
  },
  {
   "cell_type": "code",
   "execution_count": null,
   "id": "74a7bea6",
   "metadata": {},
   "outputs": [],
   "source": []
  },
  {
   "cell_type": "code",
   "execution_count": null,
   "id": "2d5857ce",
   "metadata": {},
   "outputs": [],
   "source": [
    "# Que 3. Make a list of each Booleanoperator's truth tables \n",
    "#(i.e. every possible combination of Boolean values for the operator and what it evaluate )."
   ]
  },
  {
   "cell_type": "code",
   "execution_count": null,
   "id": "fab84ecc",
   "metadata": {},
   "outputs": [],
   "source": [
    "# Ans\n",
    "# Below is the list showing the use of Boolean operators for truth table along with their result.\n",
    "# True AND True = True\n",
    "# False AND True = False \n",
    "# True AND False = False \n",
    "# False AND False = False \n",
    "# True OR True = True\n",
    "# False OR True = True \n",
    "# True OR False = True \n",
    "# False OR False = False\n",
    "# NOT False = True\n",
    "# NOT True =  False "
   ]
  },
  {
   "cell_type": "code",
   "execution_count": null,
   "id": "52749fe2",
   "metadata": {},
   "outputs": [],
   "source": []
  },
  {
   "cell_type": "code",
   "execution_count": null,
   "id": "88f66962",
   "metadata": {},
   "outputs": [],
   "source": [
    "# Que 4. What are the values of the following expressions?"
   ]
  },
  {
   "cell_type": "code",
   "execution_count": null,
   "id": "50eefb7e",
   "metadata": {},
   "outputs": [],
   "source": [
    "# Ans\n",
    "# (5 > 4) and (3 == 5) = False\n",
    "# not (5 > 4) = False\n",
    "# (5 > 4) or (3 == 5) = True\n",
    "# not ((5 > 4) or (3 == 5)) = False\n",
    "# (True and True) and (True == False) = False\n",
    "# (not False) or (not True) = True"
   ]
  },
  {
   "cell_type": "code",
   "execution_count": null,
   "id": "0fe08a69",
   "metadata": {},
   "outputs": [],
   "source": []
  },
  {
   "cell_type": "code",
   "execution_count": null,
   "id": "0d192a41",
   "metadata": {},
   "outputs": [],
   "source": [
    "# Que 5. What are the six comparison operators?"
   ]
  },
  {
   "cell_type": "code",
   "execution_count": null,
   "id": "eb9ce24f",
   "metadata": {},
   "outputs": [],
   "source": [
    "# Ans\n",
    "# There are six kinds of comparison operators used in Python. These are mentioned below along with their symbols.\n",
    "# <  -- Less than. e.g. 5<9 will return True\n",
    "# <= -- Less than or equal to. e.g. 5<=9 will return True\n",
    "# >  -- Greater than. e.g. 5>9 will return False\n",
    "# >= -- Greater than or equal to. e.g. 5>=9 will return False\n",
    "# == -- Equal to. e.g. 5==9 will return False\n",
    "# != -- Not equal to. e.g. 5!=9 will return True"
   ]
  },
  {
   "cell_type": "code",
   "execution_count": null,
   "id": "1aba234a",
   "metadata": {},
   "outputs": [],
   "source": []
  },
  {
   "cell_type": "code",
   "execution_count": null,
   "id": "8b9a4c78",
   "metadata": {},
   "outputs": [],
   "source": [
    "# Que 6. How do you tell the difference between the equal to and assignment operators? \n",
    "# Describe a condition and when youwould use one."
   ]
  },
  {
   "cell_type": "code",
   "execution_count": null,
   "id": "5e50d107",
   "metadata": {},
   "outputs": [],
   "source": [
    "# Ans\n",
    "# Assignment operator: As the name suggest, it is used used to assign values to a variable. e.g. a = 10. \n",
    "# Here the variable 'a' is assigned an integer value of 10.\n",
    "\n",
    "# Equal to operator: It is a kind of comparison operator which is used to compare the values of a variable. \n",
    "# e.g. a == 5 will return False. Since we already have the value of variable 'a' as 10, therefore, the result is False"
   ]
  },
  {
   "cell_type": "code",
   "execution_count": null,
   "id": "9fba22bb",
   "metadata": {},
   "outputs": [],
   "source": []
  },
  {
   "cell_type": "code",
   "execution_count": null,
   "id": "b0238e47",
   "metadata": {},
   "outputs": [],
   "source": [
    "# Que 7. Identify the three blocks in this code:"
   ]
  },
  {
   "cell_type": "code",
   "execution_count": null,
   "id": "41f9b602",
   "metadata": {},
   "outputs": [],
   "source": [
    "# Ans\n",
    "# spam = 0\n",
    "# if spam == 10:\n",
    "#     print('eggs')\n",
    "#     if spam > 5:\n",
    "#         print('bacon')\n",
    "#     else:\n",
    "#         print('ham')\n",
    "#     print('spam')\n",
    "# print('spam')\n",
    "\n",
    "# Block 1: spam = 0, if spam == 10:, print('spam')\n",
    "\n",
    "# Block 2: print('eggs'), if spam > 5:, else:, print('spam')\n",
    "\n",
    "# Block 3: print('bacon'), print('ham')"
   ]
  },
  {
   "cell_type": "code",
   "execution_count": null,
   "id": "477e3eb8",
   "metadata": {},
   "outputs": [],
   "source": []
  },
  {
   "cell_type": "code",
   "execution_count": null,
   "id": "a20cc28b",
   "metadata": {},
   "outputs": [],
   "source": [
    "# Que 8. Write code that prints Hello if 1 is stored in spam, prints Howdy if 2 is stored in spam, \n",
    "# and prints Greetings!if anything else is stored in spam.\n"
   ]
  },
  {
   "cell_type": "code",
   "execution_count": null,
   "id": "f4b51c26",
   "metadata": {},
   "outputs": [],
   "source": [
    "# Ans\n",
    "# spam = int(input(\"Enter the value of spam in integer format =\"))\n",
    "\n",
    "# if spam == 1:\n",
    "#     print(\"Hello\")\n",
    "# elif spam == 2:\n",
    "#     print(\"Howdy\")\n",
    "# else:\n",
    "#     print(\"Greetings!\")"
   ]
  },
  {
   "cell_type": "code",
   "execution_count": null,
   "id": "da6be5aa",
   "metadata": {},
   "outputs": [],
   "source": []
  },
  {
   "cell_type": "code",
   "execution_count": null,
   "id": "4ee4a015",
   "metadata": {},
   "outputs": [],
   "source": [
    "# Que 9.If your programme is stuck in an endless loop, what keys you’ll press? "
   ]
  },
  {
   "cell_type": "code",
   "execution_count": null,
   "id": "5ea18d4e",
   "metadata": {},
   "outputs": [],
   "source": [
    "# Ans\n",
    "# Either we can go to kernel > interrupt kernel \n",
    "# OR\n",
    "# Press Esc + i i"
   ]
  },
  {
   "cell_type": "code",
   "execution_count": null,
   "id": "19985c44",
   "metadata": {},
   "outputs": [],
   "source": []
  },
  {
   "cell_type": "code",
   "execution_count": null,
   "id": "ef745815",
   "metadata": {},
   "outputs": [],
   "source": [
    "# Que 10. How can you tell the difference between break and continue?"
   ]
  },
  {
   "cell_type": "code",
   "execution_count": null,
   "id": "29cd5d90",
   "metadata": {},
   "outputs": [],
   "source": [
    "# Ans\n",
    "# Break is used to terminate a loop once a value is achieved. \n",
    "# While continue is used to skip the current iteration and move to next iteration.\n",
    "\n",
    "# e.g. of break statement \n",
    "# for i in range(5):\n",
    "#     if i == 3:\n",
    "#         break\n",
    "#     print (i, end = \" \")\n",
    "\n",
    "# output is 0 1 2\n",
    "    \n",
    "# e.g of continue statement\n",
    "# for i in range(5):\n",
    "#     if i == 3:\n",
    "#         continue\n",
    "#     print (i, end = \" \")\n",
    "    \n",
    "# output is 0 1 2 4"
   ]
  },
  {
   "cell_type": "code",
   "execution_count": null,
   "id": "2c8a66a1",
   "metadata": {},
   "outputs": [],
   "source": []
  },
  {
   "cell_type": "code",
   "execution_count": null,
   "id": "7f887e6a",
   "metadata": {},
   "outputs": [],
   "source": [
    "# Que 11. In a for loop, what is thedifference between range(10), range(0, 10), and range(0, 10, 1)?"
   ]
  },
  {
   "cell_type": "code",
   "execution_count": null,
   "id": "9d56ec2c",
   "metadata": {},
   "outputs": [],
   "source": [
    "# Ans\n",
    "# Below is the Syntax of the range function in Python\n",
    "# range(start, stop, step)\n",
    "# The parameters start and step are optional. The default value of the start is 0 and the default value of step is 1. \n",
    "# Therefore, inside a for loop there is no difference between range(10), range(0,10), and range(0, 10, 1). \n",
    "# All will produce the same output.\n"
   ]
  },
  {
   "cell_type": "code",
   "execution_count": null,
   "id": "158249f7",
   "metadata": {},
   "outputs": [],
   "source": []
  },
  {
   "cell_type": "code",
   "execution_count": null,
   "id": "b2bfa593",
   "metadata": {},
   "outputs": [],
   "source": [
    "# Que 12. Write a short program thatprints the numbers 1 to 10 using a for loop. \n",
    "# Then write an equivalent program that prints the numbers 1 to 10 using a while loop."
   ]
  },
  {
   "cell_type": "code",
   "execution_count": null,
   "id": "c1beec7f",
   "metadata": {},
   "outputs": [],
   "source": [
    "# Ans\n",
    "# Using FOR Loop\n",
    "# for i in range(10):\n",
    "#     print(i+1, end = \" \")\n",
    "\n",
    "# Using WHILE Loop\n",
    "# a = 1\n",
    "# while a<=10:\n",
    "#     print(a, end = \" \")\n",
    "#     a += 1"
   ]
  },
  {
   "cell_type": "code",
   "execution_count": null,
   "id": "7ab44487",
   "metadata": {},
   "outputs": [],
   "source": []
  },
  {
   "cell_type": "code",
   "execution_count": null,
   "id": "0696e8ca",
   "metadata": {},
   "outputs": [],
   "source": [
    "# Que 13. If you had a function named bacon() inside a module named spam, how would you call it after importing spam?\n"
   ]
  },
  {
   "cell_type": "code",
   "execution_count": null,
   "id": "bea97bbd",
   "metadata": {},
   "outputs": [],
   "source": [
    "# Ans \n",
    "# If spam module is already imported then we will use the below code\n",
    "# spam.bacon(argument)\n",
    "\n",
    "# If spam module is not imported then we need to first import the module and then call the function. \n",
    "# Import spamspam.bacon(argument)\n",
    "# spam.bacon(argument)\n",
    "\n",
    "# Or we can directly import the function into the current namespace\n",
    "# from spam import bacon()"
   ]
  }
 ],
 "metadata": {
  "kernelspec": {
   "display_name": "Python 3 (ipykernel)",
   "language": "python",
   "name": "python3"
  },
  "language_info": {
   "codemirror_mode": {
    "name": "ipython",
    "version": 3
   },
   "file_extension": ".py",
   "mimetype": "text/x-python",
   "name": "python",
   "nbconvert_exporter": "python",
   "pygments_lexer": "ipython3",
   "version": "3.9.12"
  }
 },
 "nbformat": 4,
 "nbformat_minor": 5
}
